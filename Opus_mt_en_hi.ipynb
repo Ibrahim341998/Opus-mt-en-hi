{
  "nbformat": 4,
  "nbformat_minor": 0,
  "metadata": {
    "colab": {
      "name": "Opus mt en hi.ipynb",
      "provenance": [],
      "authorship_tag": "ABX9TyOpRZukGiPSiBUpguYdPFlb",
      "include_colab_link": true
    },
    "kernelspec": {
      "name": "python3",
      "display_name": "Python 3"
    },
    "language_info": {
      "name": "python"
    }
  },
  "cells": [
    {
      "cell_type": "markdown",
      "metadata": {
        "id": "view-in-github",
        "colab_type": "text"
      },
      "source": [
        "<a href=\"https://colab.research.google.com/github/Ibrahim341998/Opus-mt-en-hi/blob/main/Opus_mt_en_hi.ipynb\" target=\"_parent\"><img src=\"https://colab.research.google.com/assets/colab-badge.svg\" alt=\"Open In Colab\"/></a>"
      ]
    },
    {
      "cell_type": "code",
      "execution_count": null,
      "metadata": {
        "id": "A2e8_hb82oNV"
      },
      "outputs": [],
      "source": [
        ""
      ]
    }
  ]
}